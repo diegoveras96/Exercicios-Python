{
 "cells": [
  {
   "cell_type": "markdown",
   "id": "5dfa5682",
   "metadata": {},
   "source": [
    "### QUESTÃO 1\n",
    "\n",
    "Faça uma função que receba Array numérico em que a soma de 2 números alcance um alvo. <br>\n",
    "Se o alvo for atingido, a função deverá retornar um array com os valores que geraram a soma. Se o alvo não for atingido, ela deve retornar um array vazio<br>\n",
    "- Exemplo:<br>\n",
    "    Array = [1,3,6,2,39,10]<br>\n",
    "    alvoSum = 41   \n",
    " "
   ]
  },
  {
   "cell_type": "code",
   "execution_count": 7,
   "id": "812df222",
   "metadata": {},
   "outputs": [
    {
     "name": "stdout",
     "output_type": "stream",
     "text": [
      "Quantos números serão adicionados na lista? 10\n",
      "Qual é o número do alvo? 5\n",
      "1º NÚMERO DA LISTA: 5\n",
      "2º NÚMERO DA LISTA: 0\n",
      "3º NÚMERO DA LISTA: 0\n",
      "4º NÚMERO DA LISTA: 0\n",
      "5º NÚMERO DA LISTA: 0\n",
      "6º NÚMERO DA LISTA: 0\n",
      "7º NÚMERO DA LISTA: 0\n",
      "8º NÚMERO DA LISTA: 0\n",
      "9º NÚMERO DA LISTA: 0\n",
      "10º NÚMERO DA LISTA: 0\n",
      "[5, 0]\n"
     ]
    }
   ],
   "source": [
    "def funcSum(listNum):\n",
    "    for i in range(tam):\n",
    "        for x in range(1, tam):\n",
    "            soma = listNum[i] + listNum[x] #Vai somar o valor do vetor na posição [i] com o valor da posição [x], que vai iniciar em \"i+1\"\n",
    "            if soma == alvo:\n",
    "                targetSum = [listNum[i], listNum[x]]\n",
    "                return targetSum\n",
    "            \n",
    "    targetSum = []\n",
    "    return targetSum\n",
    "\n",
    "\n",
    "#Primeiras declarações\n",
    "tam = int(input('Quantos números serão adicionados na lista? '))\n",
    "alvo = int(input('Qual é o número do alvo? '))\n",
    "listaNum = []\n",
    "\n",
    "#Inserindo os valores no Vetor\n",
    "for i in range(tam):\n",
    "    num = int(input(f'{i+1}º NÚMERO DA LISTA: '))\n",
    "    listaNum.append(num)\n",
    "\n",
    "print(funcSum(listaNum))"
   ]
  },
  {
   "cell_type": "markdown",
   "id": "cde371d8",
   "metadata": {},
   "source": [
    "### QUESTÃO 2:\n",
    "\n",
    "Uma escola tem 2 turmas, Turma Laranja e Turma Preta. Ela quer fazer uma foto das turmas, sendo que os alunos da mesma turma ficam na mesma fileira. O aluno da fileira de trás, tem que ser mais alto que o da frente.\n",
    "\n",
    "Faça uma função que verifique se essa foto é possível de ser tirada\n",
    "    "
   ]
  },
  {
   "cell_type": "code",
   "execution_count": 8,
   "id": "86904dc3",
   "metadata": {},
   "outputs": [
    {
     "name": "stdout",
     "output_type": "stream",
     "text": [
      "Quantos alunos tem nas turmas? 2\n",
      "Digite a altura do aluno 1 da turma laranja: 1\n",
      "Digite a altura do aluno 1 da turma preto: 2\n",
      "Digite a altura do aluno 2 da turma laranja: 3\n",
      "Digite a altura do aluno 2 da turma preto: 1\n",
      "0\n",
      "1\n",
      "0\n",
      "1\n",
      "[1, 3] [1, 2]\n",
      "True\n"
     ]
    }
   ],
   "source": [
    "def altura(laranja, preto):\n",
    "    for i in range(tamanho):                      # i = posição fixa da comparação\n",
    "        for x in range(tamanho):                  # x = número que varia        \n",
    "            #Verificação da Turma Laranja\n",
    "            if laranja[i] < laranja[x]:\n",
    "                aux = laranja[x]\n",
    "                laranja[x] = laranja[i]\n",
    "                laranja[i] = aux\n",
    "                #Verificação da Turma Preta\n",
    "            if preto[i] < preto[x]:\n",
    "                aux = preto[x]\n",
    "                preto[x] = preto[i]\n",
    "                preto[i] = aux\n",
    "\n",
    "    print(laranja,preto)\n",
    "    #Verificação tamanhos entre as Turmas                \n",
    "    for i in range(tamanho):\n",
    "        if laranja[i] <= preto[i]:\n",
    "            pass\n",
    "        elif laranja[i] >= preto[i]:\n",
    "            pass\n",
    "        else:\n",
    "            return False\n",
    "    return True\n",
    "    \n",
    "\n",
    "#Entrada do Tamanho dos Arrays\n",
    "tamanho = int(input('Quantos alunos tem nas turmas? '))\n",
    "\n",
    "#Declaração dos Arrays\n",
    "laranja = []\n",
    "preto = []\n",
    "\n",
    "#Inclusão dos Valores\n",
    "for i in range(tamanho):\n",
    "    alunol = int(input(f'Digite a altura do aluno {i+1} da turma laranja: '))\n",
    "    alunop = int(input(f'Digite a altura do aluno {i+1} da turma preto: '))\n",
    "    laranja.append(alunol)\n",
    "    preto.append(alunop)\n",
    "\n",
    "\n",
    "print(altura(laranja,preto))"
   ]
  },
  {
   "cell_type": "markdown",
   "id": "c50e522b",
   "metadata": {},
   "source": [
    "### Questão 2 de forma otimizada:"
   ]
  },
  {
   "cell_type": "code",
   "execution_count": null,
   "id": "6815b0d4",
   "metadata": {},
   "outputs": [],
   "source": [
    "def altura(laranja, preto):\n",
    "    laranja = sorted(set(laranja)) #método que ordena o vetor\n",
    "    preto = sorted(set(preto)) \n",
    "    #Verificação tamanhos entre as Turmas                \n",
    "    for i in range(tamanho):\n",
    "        if laranja[i] <= preto[i]:\n",
    "            pass\n",
    "        elif laranja[i] >= preto[i]:\n",
    "            pass\n",
    "        else:\n",
    "            return False\n",
    "    return True\n",
    "    \n",
    "#Entrada do Tamanho dos Arrays\n",
    "tamanho = int(input('Quantos alunos tem nas turmas? '))\n",
    "\n",
    "#Declaração dos Arrays\n",
    "laranja = []\n",
    "preto = []\n",
    "\n",
    "#Inclusão dos Valores\n",
    "for i in range(tamanho):\n",
    "    alunol = int(input(f'Digite a altura do aluno {i+1} da turma laranja: '))\n",
    "    alunop = int(input(f'Digite a altura do aluno {i+1} da turma preto: '))\n",
    "    laranja.append(alunol)\n",
    "    preto.append(alunop)\n",
    "\n",
    "\n",
    "print(altura(laranja,preto))"
   ]
  },
  {
   "cell_type": "markdown",
   "id": "4c3a2d2f",
   "metadata": {},
   "source": [
    "### QUESTÃO 3\n",
    "\n",
    "Faça uma função que receba uma String qualquer e retorne a quantidade de letras que essa string possui + a letra<br>\n",
    "- Exemplo: <br>\n",
    "    String: AAAAABBCCCDDE<br>\n",
    "    Retorno: 5A2B3C2D1E<br>\n",
    "\n",
    "Para dificultar um pouco, caso tenha mais de 9 Strings repetidas, a representação deverá ser 9X+yX\n",
    "- Exemplo:<br>\n",
    "    String: AAAAAAAAAAAABBBBBBBBBBBBBBBC\n",
    "    Retorno: 9A3A9B6B1C\n"
   ]
  },
  {
   "cell_type": "code",
   "execution_count": 3,
   "id": "634f79ac",
   "metadata": {},
   "outputs": [
    {
     "name": "stdout",
     "output_type": "stream",
     "text": [
      "Escreva sua String\n",
      "\n",
      "\n"
     ]
    }
   ],
   "source": [
    "def sortString(nome):\n",
    "    #Tratando a String Original retirando espaços, colocando em letras maiusculás e ordem alfabética\n",
    "    nome = nome.replace(' ','')\n",
    "    nome = nome.upper()\n",
    "    nome = ''.join(sorted(nome))\n",
    "    \n",
    "    #Declarando os Vetores\n",
    "    name = []\n",
    "    cont = []\n",
    "    res = []\n",
    "    \n",
    "    #Mágica acontecendo, removendo as letras da String original e separando elas para um outro vetor, junto com suas somas\n",
    "    while len(nome) > 0:       \n",
    "        letra = nome[0]\n",
    "        conta = nome.count(nome[0])        \n",
    "        name.append(letra)\n",
    "        cont.append(conta)\n",
    "        nome = nome.replace(nome[0], '') #Método .pop() não funciona por nome ser uma STRING!\n",
    "    \n",
    "    #Intercalando os 2 vetores anteriores\n",
    "    res = cont + name \n",
    "    res[::2] = cont \n",
    "    res[1::2] = name\n",
    "    \n",
    "    #Checando os valores\n",
    "    indice = 0\n",
    "    while indice in range(len(res)):\n",
    "        if res[indice]/9 > 1:\n",
    "            sub = int(res[indice] - 9)\n",
    "            letra = res[indice + 1]\n",
    "            res[indice] = 9\n",
    "            \n",
    "            #Inserindo os valores nas posições corretas\n",
    "            res.insert(indice+2, sub)\n",
    "            res.insert(indice+3, letra)\n",
    "           \n",
    "           # Aqui os novos valores seriam inseridos no final da lista\n",
    "           # res.append(sub)\n",
    "           # res.append(letra)\n",
    "            \n",
    "        indice = indice + 2\n",
    "    \n",
    "    #Transformando em uma única String\n",
    "    res = str(res)[1:-1]\n",
    "    \n",
    "    #Eliminando caracteres especiais da String final\n",
    "    res = res.replace(',','')\n",
    "    res = res.replace(' ','')\n",
    "    res = res.replace(\"'\", \"\")\n",
    "    \n",
    "    return res\n",
    "\n",
    "\n",
    "nome = input('Escreva sua String\\n')      \n",
    "print(sortString(nome))"
   ]
  },
  {
   "cell_type": "markdown",
   "id": "3bb13427",
   "metadata": {},
   "source": [
    "para i de 0 ate 1 faca\n",
    "   para x de i + 1 ate 2 faca\n",
    "      se VET[i] > VET[x] entao\n",
    "         AUX <-VET[x]\n",
    "         VET[x] <- VET[i]\n",
    "         VET[i] <- AUX\n",
    "      fimse\n",
    "   fimpara\n",
    "fimpara"
   ]
  },
  {
   "cell_type": "markdown",
   "id": "20ee7dd5",
   "metadata": {},
   "source": [
    "O Fatiamento de Listas em Python pode ser usado para executar esta tarefa específica.<br>\n",
    "Primeiro, estendemos uma lista para outra e depois permitimos que a lista original tenha índices alternativos desejados da lista resultante."
   ]
  },
  {
   "cell_type": "code",
   "execution_count": 25,
   "id": "4a9947fa",
   "metadata": {},
   "outputs": [
    {
     "name": "stdout",
     "output_type": "stream",
     "text": [
      "Original list 1 : [1, 4, 5]\n",
      "Original list 2 : [3, 8, 9]\n",
      "The interleaved list is : [1, 3, 4, 8, 5, 9]\n"
     ]
    }
   ],
   "source": [
    "test_list1 = [1, 4, 5] \n",
    "test_list2 = [3, 8, 9] \n",
    "print (\"Original list 1 : \" + str(test_list1)) \n",
    "print (\"Original list 2 : \" + str(test_list2)) \n",
    "res = test_list1 + test_list2 \n",
    "res[::2] = test_list1 \n",
    "res[1::2] = test_list2 \n",
    "print (\"The interleaved list is : \" + str(res)) "
   ]
  },
  {
   "cell_type": "markdown",
   "id": "949b76c8",
   "metadata": {},
   "source": [
    "# 3 Notas, 5, 20 e 50. O programa tem que fazer o saque com a menor quantidade de notas possíveis"
   ]
  },
  {
   "cell_type": "code",
   "execution_count": 3,
   "id": "7104fbab",
   "metadata": {},
   "outputs": [
    {
     "name": "stdout",
     "output_type": "stream",
     "text": [
      "Quanto você vai sacar? 195\n",
      "O saque será feito com 6 nota(s)\n",
      "3 nota(s) de 50, 2 nota(s) de 20 e com 1 nota(s) de 5\n"
     ]
    }
   ],
   "source": [
    "def sacarDinheiro():\n",
    "    saque = int(input('Quanto você vai sacar? '))\n",
    "    nota5  = 0\n",
    "    nota20 = 0\n",
    "    nota50 = 0\n",
    "    i = 0\n",
    "    \n",
    "    while i < saque:\n",
    "\n",
    "        if saque >= 50:\n",
    "            nota50 = int(saque/50)\n",
    "            saque -= 50 * nota50\n",
    "        elif saque >= 20:\n",
    "            nota20 = int(saque/20)\n",
    "            saque -= 20 * nota20\n",
    "        elif saque >= 5:\n",
    "            nota5 = int(saque/5)\n",
    "            saque -= 5 * nota5\n",
    "        \n",
    "    return nota50, nota20, nota5 \n",
    "\n",
    "nota50, nota20, nota5 = sacarDinheiro()\n",
    "totNotas = nota50 + nota20 + nota5\n",
    "\n",
    "print(f'O saque será feito com {totNotas} nota(s)\\n{nota50} nota(s) de 50, {nota20} nota(s) de 20 e com {nota5} nota(s) de 5')\n"
   ]
  },
  {
   "cell_type": "code",
   "execution_count": 7,
   "id": "3ed50765",
   "metadata": {},
   "outputs": [
    {
     "name": "stdout",
     "output_type": "stream",
     "text": [
      "Quanto você vai sacar? 1\n",
      "1\n"
     ]
    }
   ],
   "source": [
    "\n",
    "print(sacarDinheiro(saque))"
   ]
  }
 ],
 "metadata": {
  "kernelspec": {
   "display_name": "Python 3 (ipykernel)",
   "language": "python",
   "name": "python3"
  },
  "language_info": {
   "codemirror_mode": {
    "name": "ipython",
    "version": 3
   },
   "file_extension": ".py",
   "mimetype": "text/x-python",
   "name": "python",
   "nbconvert_exporter": "python",
   "pygments_lexer": "ipython3",
   "version": "3.9.7"
  }
 },
 "nbformat": 4,
 "nbformat_minor": 5
}
